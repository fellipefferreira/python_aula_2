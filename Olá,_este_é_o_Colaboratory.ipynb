{
  "cells": [
    {
      "cell_type": "markdown",
      "metadata": {
        "id": "view-in-github",
        "colab_type": "text"
      },
      "source": [
        "<a href=\"https://colab.research.google.com/github/fellipefferreira/python_aula_2/blob/main/Ol%C3%A1%2C_este_%C3%A9_o_Colaboratory.ipynb\" target=\"_parent\"><img src=\"https://colab.research.google.com/assets/colab-badge.svg\" alt=\"Open In Colab\"/></a>"
      ]
    },
    {
      "cell_type": "code",
      "source": [],
      "metadata": {
        "id": "wReUAc6i1tqc"
      },
      "execution_count": null,
      "outputs": []
    },
    {
      "cell_type": "markdown",
      "source": [
        "# A estrutura de dados utilizando tuple é semelhante a uma lista, porém os valores armazenados por ela sao imutáveis.\n",
        "\n",
        "## Qualquer tipo de dado pode ser armazenado em uma tuple.\n",
        "## Os elementos sao acessados pelos índices.\n",
        "## As tuples sao definidas através de parenteses.\n",
        "\n",
        "### Tuple :\n",
        "### tuple = (4,5,6)\n",
        "### tuple[0] = 4\n",
        "### tuple[1] = 5\n",
        "### tuple[2] = 6\n",
        "\n",
        "### Tuple de Tuple :\n",
        "*  Ao definir tuplas com expressoes mais complicadas, é melhor utilizar parenteses dentro da tuple.\n",
        "##### tuple_tuple = ((4,5,6),(7,8),(9,10,11))\n",
        "##### tuple_tuple[0][0] = 4\n",
        "##### tuple_tuple[0][1] = 5\n",
        "##### tuple_tuple[0][2] = 6\n",
        "##### tuple_tuple[1][0] = 7\n",
        "##### tuple_tuple[1][1] = 8\n",
        "\n",
        "# Modificando a tuple no local.\n",
        "## Se um objeto for mutavel dentro de um tuple, como  lista por exemplo, poderá ser modificado.\n",
        "\n",
        "#####tupla = tuple('foo',[1,2],True)\n",
        "#####tupla[1].append(2)\n",
        "#####('foo',[1,2,2],True)\n",
        "\n",
        "\n",
        "#####tupla[1].append(3)\n",
        "#####('foo',[1,2,2,3] True)\n",
        "\n",
        "# A estrutura de dados do tipo lista , é mutável e flexível, ou seja, é possível alterar os valores armazenados.\n",
        "\n",
        "# Nao é preciso que os elementos sejam do mesmo tipo de dados.\n",
        "# Os elementos sao acessados por indices semelhantes aos vetores.\n",
        "# Em python, as listas sao definidas por colchetes.\n",
        "\n",
        "# A estrutura de dados unidimensional (vetor) permite o armazenamento de dados em uma única dimensao.\n",
        "\n",
        "## Permite apenas os elementos do mesmo tipo de dado.\n",
        "## Cada elemento é acessado por meio de um indice inteiro.\n",
        "## Os indices comecam em zero e vao ate o tamaho do vetor menos um.\n",
        "\n",
        "\n",
        "# A estrutura de dados do tipo bidimensional (Matriz) armazena os valores em linhas e colunas\n",
        "\n",
        "## É uma colecao de vetores ou listas.\n",
        "## Os elementos sao acessados por meio de dois indices, um para linha e outro para coluna.\n",
        "## Em Python, as matrizes geralmente sao representadas por meio de uma lista de listas.\n",
        "\n",
        "#### eXEMPLO EM Python : [[1,2,3], [4,5,6],[7,8,9]]\n",
        "\n",
        "# Estrutura de dados do tipo Tridimensional é uma extensao da estrutura bidimensional , os elementos sao organizados em tres dimensoes.\n",
        "\n",
        "## Cada elemento é acessado por tres indices. Um para camada, outro para coluna, outro para linha.\n",
        "\n",
        "### Exemplo :\n",
        "\n",
        "lista_tridimensional = [\n",
        "  ['camada_1'\n",
        "  [1,2,3],[4,5,6],[7,8,9]]\n",
        "  ['camada_2'\n",
        "  [10,11,12],[13,14,15],[16,17,18]]\n",
        "]\n",
        "\n",
        "# listas vs tuplas\n",
        "\n",
        "| Listas                         |     Tuples     |\n",
        "| ---------                      |----------------|\n",
        "| É mutável.                     | Nao é mutável. |\n",
        "| Iteracao da lista é mais lenta | Iteracao da tuple é mais rápida |\n",
        "|Lista consome mais memória.     |Tuple consome menos memória.     |\n",
        "|Operacao de lista sao mais propensas a erros|Operacao de tuples sao seguras|\n",
        "|Lista oferece muitos métodos integrados| Tuples oferecem menod métodos|\n",
        "|Lista é útil para operacao de insercao e inclusao| Tuples acessam os elementos|\n",
        "\n",
        "\n",
        "\n",
        "\n",
        "\n",
        "\n",
        "\n",
        "\n",
        "\n",
        "\n"
      ],
      "metadata": {
        "id": "tPbaXFZ13lo0"
      }
    },
    {
      "cell_type": "code",
      "source": [
        "# Como modificar em uma tupla\n",
        "\n",
        "tupla = tuple(['foo',[1,2], True])\n",
        "lista = list(tupla)\n",
        "lista.insert(0,'hoje')\n",
        "nova_tupla = tuple(lista)\n",
        "nova_tupla"
      ],
      "metadata": {
        "colab": {
          "base_uri": "https://localhost:8080/"
        },
        "id": "4bney8MLO986",
        "outputId": "e2494274-754b-41ea-b366-bf3507eda97b"
      },
      "execution_count": 4,
      "outputs": [
        {
          "output_type": "execute_result",
          "data": {
            "text/plain": [
              "('hoje', 'foo', [1, 2], True)"
            ]
          },
          "metadata": {},
          "execution_count": 4
        }
      ]
    },
    {
      "cell_type": "code",
      "source": [
        "# Modificando pelo indice\n",
        "\n",
        "tupla = tuple(['foo', [1,2], True])\n",
        "lista = list(tupla)\n",
        "posicao = lista.index('foo') + 1\n",
        "lista.insert(posicao, 'hoje')\n",
        "nova_tuple = tuple(lista)\n",
        "nova_tuple"
      ],
      "metadata": {
        "colab": {
          "base_uri": "https://localhost:8080/"
        },
        "id": "0nByXxDIPhcQ",
        "outputId": "f763cb17-1013-4283-87e8-b0872ad9121b"
      },
      "execution_count": 6,
      "outputs": [
        {
          "output_type": "execute_result",
          "data": {
            "text/plain": [
              "('foo', 'hoje', [1, 2], True)"
            ]
          },
          "metadata": {},
          "execution_count": 6
        }
      ]
    },
    {
      "cell_type": "code",
      "source": [
        "# Concatenando tuplas\n",
        "\n",
        "# Embora os objetos dentro da tupla possam ser mutaveis, uma vez criados , nao é possivel modificar o objeto arazenado em um slot\n",
        "\n",
        "(4,None,'foo') + (6,0) + ('bar', 1) # está somando os elementos das tuples para concatenar em apenas uma tuple\n",
        "('foo','bar') * 4 # esta multiplicando os elementos da tupla para concater em apenas uma tuple\n",
        "(4,8,12) + (3,6,9) # concatenando duas tuplas"
      ],
      "metadata": {
        "colab": {
          "base_uri": "https://localhost:8080/"
        },
        "id": "d9-oPixeYaj-",
        "outputId": "53536227-352b-4827-8b37-50df1ba0572c"
      },
      "execution_count": 10,
      "outputs": [
        {
          "output_type": "execute_result",
          "data": {
            "text/plain": [
              "(4, 8, 12, 3, 6, 9)"
            ]
          },
          "metadata": {},
          "execution_count": 10
        }
      ]
    },
    {
      "cell_type": "code",
      "source": [
        "# multiplicando cada elemento da tupla\n",
        "\n",
        "tupla = (4,8,12)\n",
        "\n",
        "for numero in tupla:\n",
        "  novo_numero = numero * 4\n",
        "  print(novo_numero)"
      ],
      "metadata": {
        "colab": {
          "base_uri": "https://localhost:8080/"
        },
        "id": "KIjb_gXuZwqI",
        "outputId": "f61e4941-82a0-4240-a1e8-33416ea3a959"
      },
      "execution_count": 11,
      "outputs": [
        {
          "output_type": "stream",
          "name": "stdout",
          "text": [
            "16\n",
            "32\n",
            "48\n"
          ]
        }
      ]
    },
    {
      "cell_type": "code",
      "source": [
        "tupla = (4,8,12)\n",
        "nova_tupla = []\n",
        "\n",
        "for numero in tupla:\n",
        "  novo_numero = numero * 4\n",
        "  nova_tupla.append(novo_numero)\n",
        "  nova_tupla = tuple(nova_tupla)"
      ],
      "metadata": {
        "id": "hoHOpaVbaRui"
      },
      "execution_count": null,
      "outputs": []
    },
    {
      "cell_type": "code",
      "source": [
        "tupla = (4,5,6)\n",
        "a,b,c = tupla\n",
        "\n"
      ],
      "metadata": {
        "colab": {
          "base_uri": "https://localhost:8080/"
        },
        "id": "Ik9VczJQcN1G",
        "outputId": "c2c5296a-c108-42f9-ea98-82951462c183"
      },
      "execution_count": 18,
      "outputs": [
        {
          "output_type": "stream",
          "name": "stdout",
          "text": [
            "(4, 5, 6)\n"
          ]
        }
      ]
    },
    {
      "cell_type": "code",
      "source": [
        "# Descompactacao de variaveis\n",
        "\n",
        "seq = [(1,2,3),(4,5,6),(7,8,9)] # lista com tres tuples dentro\n",
        "for a,b,c in seq: # estrutura de repeticao com tres variaveis quaisquer\n",
        "  print('a={0},b={1},c={2}'.format(a,b,c)) # atribuindo as variaveis aos indices no formato da tuple"
      ],
      "metadata": {
        "colab": {
          "base_uri": "https://localhost:8080/"
        },
        "id": "G3h3HDBkc1Le",
        "outputId": "f913fbca-7582-4ba0-c763-9436e8f5e3d2"
      },
      "execution_count": 21,
      "outputs": [
        {
          "output_type": "stream",
          "name": "stdout",
          "text": [
            "a=1,b=2,c=3\n",
            "a=4,b=5,c=6\n",
            "a=7,b=8,c=9\n"
          ]
        }
      ]
    },
    {
      "cell_type": "code",
      "source": [
        "# Exercicio 1 : Crie uma tupla chamada frutas com os seguintes elementos : 'maça' 'banana' 'laranja' 'uva'\n",
        "\n",
        "frutas = ('maça','banana','laranja','uva')"
      ],
      "metadata": {
        "id": "0jNVn5AVcDU2"
      },
      "execution_count": 22,
      "outputs": []
    },
    {
      "cell_type": "code",
      "source": [
        "# Exercicio 2: Acesse o segundo elemento da tupla frutas\n",
        "frutas = ('maça','banana','laranja','uva')\n",
        "frutas[1]\n",
        "print(frutas[1])\n"
      ],
      "metadata": {
        "id": "jquSAYPQfDH4"
      },
      "execution_count": null,
      "outputs": []
    },
    {
      "cell_type": "code",
      "source": [
        "# Exercico 3: Subistitua o terceiro elemento da tuple frutas por manga e armazena a tupla modificada numa terceira tupla chamada frutas_modificadas\n",
        "frutas = ('maça','banana','laranja','uva')\n",
        "frutas_modificadas = frutas[:2] + ('manga',) + frutas[3:] # criando nova variavel, pegando os indices que estao atras do numero 2 , adicionando manga, e pegando os indices depois de tres\n",
        "print(frutas_modificadas)"
      ],
      "metadata": {
        "colab": {
          "base_uri": "https://localhost:8080/"
        },
        "id": "zkSqj95TfTlP",
        "outputId": "72daf29b-78e7-4287-8af7-cf7f91e64983"
      },
      "execution_count": 30,
      "outputs": [
        {
          "output_type": "stream",
          "name": "stdout",
          "text": [
            "('maça', 'banana', 'manga', 'uva')\n"
          ]
        }
      ]
    },
    {
      "cell_type": "code",
      "source": [
        "# Exercicio 4:  Concatene a tupla frutas_modificadas com a tupla ('abacaxi', 'limao') e armazene o resultado em uma nova tuple chamada frutas concatenadas\n",
        "\n",
        "frutas = ('maça','banana', 'laranja','uva')\n",
        "frutas_modificadas = frutas[:2] + ('manga',) + frutas[3:]\n",
        "frutas_concatenadas = frutas_modificadas + ('abacaxi','limao')\n",
        "frutas_concatenadas"
      ],
      "metadata": {
        "colab": {
          "base_uri": "https://localhost:8080/"
        },
        "id": "xAwMHMBCiPsT",
        "outputId": "d5f45877-b30d-464e-eb34-b34a9e61315f"
      },
      "execution_count": 34,
      "outputs": [
        {
          "output_type": "execute_result",
          "data": {
            "text/plain": [
              "('maça', 'banana', 'manga', 'uva', 'abacaxi', 'limao')"
            ]
          },
          "metadata": {},
          "execution_count": 34
        }
      ]
    },
    {
      "cell_type": "code",
      "source": [
        "# Exercicio 5: Verifique se o elemento uva está na tuple frutas_concatenadas usando if e else\n",
        "if 'uva' in frutas_concatenadas:\n",
        "  print('Uva está presente  na tuple')\n",
        "else:\n",
        "  print('Uva nao esta presente na tuple')\n"
      ],
      "metadata": {
        "colab": {
          "base_uri": "https://localhost:8080/"
        },
        "id": "oyMZ2c0NkNM2",
        "outputId": "40c2d1ad-a37f-422d-d844-02c0bb55892c"
      },
      "execution_count": 36,
      "outputs": [
        {
          "output_type": "stream",
          "name": "stdout",
          "text": [
            "Uva está presente  na tuple\n"
          ]
        }
      ]
    },
    {
      "cell_type": "code",
      "source": [
        "# Exercicio 6: Descubra o index do elemento banana na tuple frutas_concatenadas\n",
        "\n",
        "indice_banana = frutas_concatenadas.index('banana')\n",
        "indice_banana"
      ],
      "metadata": {
        "colab": {
          "base_uri": "https://localhost:8080/"
        },
        "id": "M8P9LlenlZX2",
        "outputId": "1bc898a1-f70f-4b9a-98a6-831830e34a3f"
      },
      "execution_count": 38,
      "outputs": [
        {
          "output_type": "execute_result",
          "data": {
            "text/plain": [
              "1"
            ]
          },
          "metadata": {},
          "execution_count": 38
        }
      ]
    },
    {
      "cell_type": "code",
      "source": [
        "# Exercicio 7: Conte quantas vezes o elemento uva aparece em frutas concatenadas\n",
        "\n",
        "contagem_uva = frutas_concatenadas.count('uva')\n",
        "contagem_uva"
      ],
      "metadata": {
        "colab": {
          "base_uri": "https://localhost:8080/"
        },
        "id": "PsBmpBTsl7fv",
        "outputId": "8a8e1417-f846-4e20-ddb5-efc966a68673"
      },
      "execution_count": 40,
      "outputs": [
        {
          "output_type": "execute_result",
          "data": {
            "text/plain": [
              "1"
            ]
          },
          "metadata": {},
          "execution_count": 40
        }
      ]
    },
    {
      "cell_type": "code",
      "source": [
        "# Exercicio 8: Crie uma tuple chamadas numeros com numeros de 1 a 5\n",
        "\n",
        "numeros = (1,2,3,4,5)\n",
        "numeros"
      ],
      "metadata": {
        "id": "mIOE36vImQcp"
      },
      "execution_count": null,
      "outputs": []
    },
    {
      "cell_type": "code",
      "source": [
        "# Exercicio 9: Multiplique cada elemento da tuple numeros por 2 e armazene o resultado em uma tuple chamado de numeros dobrados\n",
        "\n",
        "\n",
        "numeros_dobrados = tuple(num * 2 for num in numeros)\n",
        "numeros_dobrados"
      ],
      "metadata": {
        "id": "bl_l6aA_mdaR"
      },
      "execution_count": null,
      "outputs": []
    },
    {
      "cell_type": "code",
      "source": [
        "# contar a quantidade de elementos dentro de uma tupla\n",
        "\n",
        "a = (1,2,2,2,3,4,2)\n",
        "a.count(2)\n",
        "a.count(4)"
      ],
      "metadata": {
        "colab": {
          "base_uri": "https://localhost:8080/"
        },
        "id": "Ail_vPQLoOO2",
        "outputId": "43d96682-7124-4865-ad4d-d11efc74f7a6"
      },
      "execution_count": 55,
      "outputs": [
        {
          "output_type": "execute_result",
          "data": {
            "text/plain": [
              "1"
            ]
          },
          "metadata": {},
          "execution_count": 55
        }
      ]
    },
    {
      "cell_type": "code",
      "source": [
        "# A funcao de lista é frequentemente utilizada no processamento de dados como uma maneira de materializar uma expresao iteradora ou geradora\n",
        "\n",
        "gen = range(10)\n",
        "range(0,10)\n",
        "list(gen)"
      ],
      "metadata": {
        "colab": {
          "base_uri": "https://localhost:8080/"
        },
        "id": "l8LNkF3Rxair",
        "outputId": "51723ad9-0d5e-40d0-b22b-83f8eab85d99"
      },
      "execution_count": 58,
      "outputs": [
        {
          "output_type": "execute_result",
          "data": {
            "text/plain": [
              "[0, 1, 2, 3, 4, 5, 6, 7, 8, 9]"
            ]
          },
          "metadata": {},
          "execution_count": 58
        }
      ]
    },
    {
      "cell_type": "code",
      "source": [
        "# Adicionando elementos na lista\n",
        "list = ['agua','fogo','terra']\n",
        "list.append('ar')\n",
        "list\n"
      ],
      "metadata": {
        "id": "aNc7U7gizHdh"
      },
      "execution_count": null,
      "outputs": []
    },
    {
      "cell_type": "code",
      "source": [
        "# Insertando eter na lista\n",
        "list.insert(1,'eter')\n",
        "list"
      ],
      "metadata": {
        "id": "6CMIcvS3znEb"
      },
      "execution_count": null,
      "outputs": []
    },
    {
      "cell_type": "code",
      "source": [
        "# removendo elemento da lista\n",
        "list.remove('fogo')\n",
        "list"
      ],
      "metadata": {
        "id": "RVcqdboY18bS"
      },
      "execution_count": null,
      "outputs": []
    },
    {
      "cell_type": "code",
      "source": [
        "# Concatenando e combinando listas\n",
        "# Os elementos podem ser acrescentados no final da lista usando o método append\n",
        "\n",
        "[4,None,'foo'] + [7,8,(2,3)]\n"
      ],
      "metadata": {
        "colab": {
          "base_uri": "https://localhost:8080/"
        },
        "id": "FcRsHY2j1ka1",
        "outputId": "c1b08ef4-8d8e-4c53-a5a5-92833c8ae303"
      },
      "execution_count": 77,
      "outputs": [
        {
          "output_type": "execute_result",
          "data": {
            "text/plain": [
              "[4, None, 'foo', 7, 8, (2, 3)]"
            ]
          },
          "metadata": {},
          "execution_count": 77
        }
      ]
    },
    {
      "cell_type": "code",
      "source": [
        "x = [4,None,'foo']\n",
        "x.extend([7,8,(2,3)])\n",
        "x"
      ],
      "metadata": {
        "colab": {
          "base_uri": "https://localhost:8080/"
        },
        "id": "7jf7Ch3R2r0q",
        "outputId": "e997ca8b-600c-49e2-9e48-0de76ee075a5"
      },
      "execution_count": 79,
      "outputs": [
        {
          "output_type": "execute_result",
          "data": {
            "text/plain": [
              "[4, None, 'foo', 7, 8, (2, 3)]"
            ]
          },
          "metadata": {},
          "execution_count": 79
        }
      ]
    },
    {
      "cell_type": "code",
      "source": [
        "lista_da_lista = [[1,2,3],[4,5,6],[7,8,9]]\n",
        "all = []\n",
        "\n",
        "for pedaco in lista_da_lista:\n",
        "  all.extend(pedaco)"
      ],
      "metadata": {
        "id": "8gFiGbj53Lxd"
      },
      "execution_count": 80,
      "outputs": []
    },
    {
      "cell_type": "code",
      "source": [
        "a = [7,2,5,1,3]\n",
        "a.sort()\n",
        "a"
      ],
      "metadata": {
        "colab": {
          "base_uri": "https://localhost:8080/"
        },
        "id": "7t7cq08W4da8",
        "outputId": "d1a6fb1c-a938-4c2b-c32a-1f0cdab82ea1"
      },
      "execution_count": 81,
      "outputs": [
        {
          "output_type": "execute_result",
          "data": {
            "text/plain": [
              "[1, 2, 3, 5, 7]"
            ]
          },
          "metadata": {},
          "execution_count": 81
        }
      ]
    },
    {
      "cell_type": "code",
      "source": [
        "b = ['saw','small','He','foxes', 'six']\n",
        "b.sort(key=len)\n",
        "b"
      ],
      "metadata": {
        "colab": {
          "base_uri": "https://localhost:8080/"
        },
        "id": "Aqs3knKW4k0a",
        "outputId": "94eafa63-30a9-4d2f-bead-600e9e9a88a6"
      },
      "execution_count": 83,
      "outputs": [
        {
          "output_type": "execute_result",
          "data": {
            "text/plain": [
              "['He', 'saw', 'six', 'small', 'foxes']"
            ]
          },
          "metadata": {},
          "execution_count": 83
        }
      ]
    },
    {
      "cell_type": "code",
      "source": [
        "# Slice start:stop\n",
        "#Duvida\n",
        "\n",
        "seq = [7,2,3,7,5,6,0,1]\n",
        "seq[1:5]\n",
        "seq[2:7]\n",
        "seq[:5]\n",
        "seq[3:]\n",
        "seq[-4:]\n",
        "seq[::2]\n",
        "seq[::3]\n",
        "\n",
        "\n",
        "\n"
      ],
      "metadata": {
        "colab": {
          "base_uri": "https://localhost:8080/"
        },
        "id": "Gk09sf-r4_Qc",
        "outputId": "b590ab21-5891-465d-d199-20662c2a7e20"
      },
      "execution_count": 95,
      "outputs": [
        {
          "output_type": "execute_result",
          "data": {
            "text/plain": [
              "[7, 7, 0]"
            ]
          },
          "metadata": {},
          "execution_count": 95
        }
      ]
    },
    {
      "cell_type": "code",
      "source": [
        "palavra = ['H','E','L','L','O','!']\n",
        "palavra[2:4] # ele pega o elemento do indice 2 e vai até o elemento antes do indice 4\n",
        "palavra[-5:-2] # ele pega o elemento que esta depois do indice 5 e vai até o elemento do indice 2\n"
      ],
      "metadata": {
        "colab": {
          "base_uri": "https://localhost:8080/"
        },
        "id": "cF4vqluF6gM_",
        "outputId": "982b7287-6f7f-4939-a358-2303f49b8059"
      },
      "execution_count": 97,
      "outputs": [
        {
          "output_type": "execute_result",
          "data": {
            "text/plain": [
              "['E', 'L', 'L']"
            ]
          },
          "metadata": {},
          "execution_count": 97
        }
      ]
    }
  ],
  "metadata": {
    "colab": {
      "name": "Olá, este é o Colaboratory",
      "provenance": [],
      "include_colab_link": true
    },
    "kernelspec": {
      "display_name": "Python 3",
      "name": "python3"
    }
  },
  "nbformat": 4,
  "nbformat_minor": 0
}